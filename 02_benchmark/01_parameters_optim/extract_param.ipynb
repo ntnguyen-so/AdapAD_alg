{
 "cells": [
  {
   "cell_type": "markdown",
   "id": "1bf225ff-3771-45ae-9eaf-e28f9961bea4",
   "metadata": {},
   "source": [
    "Script to extract optimized parameters and generate commands to execute experiments (can be found in ../00_used_for_setup/4-param-optimization)"
   ]
  },
  {
   "cell_type": "code",
   "execution_count": null,
   "id": "f131e285-11f2-4490-b95a-eb1fbdda7b11",
   "metadata": {},
   "outputs": [],
   "source": [
    "import pandas as pd\n",
    "import numpy as np\n",
    "import os"
   ]
  },
  {
   "cell_type": "code",
   "execution_count": null,
   "id": "8a62c5cb-5f20-418b-9b62-e49df63eddda",
   "metadata": {},
   "outputs": [],
   "source": [
    "param_ref = pd.read_csv(\"tsad-evaluation-results.csv\")\n",
    "param_ref"
   ]
  },
  {
   "cell_type": "code",
   "execution_count": null,
   "id": "80a534cf-e1b0-4e3d-a7f9-b68fc4f58189",
   "metadata": {},
   "outputs": [],
   "source": [
    "alg_map = pd.read_csv(\"algorithm_mapping.csv\")\n",
    "alg_map"
   ]
  },
  {
   "cell_type": "code",
   "execution_count": null,
   "id": "8fa6ac1d-886c-4422-a1b5-72ff6692ef64",
   "metadata": {},
   "outputs": [],
   "source": [
    "unsupervised_algs=[\"adapad_novelty_svr\", \"adapad_phasespace_svm\", \"adapad_ensemble_gi\", \"adapad_grammarviz3\", \"adapad_hotsax\", \"adapad_ts_bitmap\", \"adapad_norma\", \"adapad_sand\", \"adapad_series2graph\", \"adapad_stamp\", \"adapad_stomp\", \"adapad_valmod\", \"adapad_left_stampi\", \"adapad_ssa\", \"adapad_pst\", \"adapad_numenta_htm\", \"adapad_subsequence_lof\", \"adapad_subsequence_if\", \"adapad_dwt_mlead\", \"adapad_fft\", \"adapad_sr\", \"adapad_s_h_esd\", \"adapad_dspot\", \"adapad_arima\", \"adapad_median_method\", \"adapad_sarima\", \"adapad_triple_es\", \"adapad_pci\"]\n",
    "r_based = [\"adapad_valmod\", \"adapad_stamp\", \"adapad_stomp\", \"adapad_pst\"]"
   ]
  },
  {
   "cell_type": "code",
   "execution_count": null,
   "id": "4c4e1b4c-91f0-4219-a84c-ec2b522b1b2b",
   "metadata": {},
   "outputs": [],
   "source": [
    "with open(\"unsupervised_commands.txt\", \"w\") as f:\n",
    "    template_unsupervised = \"docker run --rm -v $(pwd)/1-data:/data:ro -v $(pwd)/2-results:/results:rw <<alg>>:latest execute-algorithm '{\\\"executionType\\\": \\\"execute\\\", \\\"dataInput\\\": \\\"/data/<<data_name>>.total.csv\\\", \\\"dataOutput\\\": \\\"/results/<<alg>>_<<data_name>>_<<i>>.ts\\\"\"\n",
    "    for alg_name in alg_map.ref_name.values:\n",
    "        try:\n",
    "            param_trials = param_ref[(param_ref.algorithm == alg_name) & (param_ref.dataset_input_dimensionality == \"UNIVARIATE\") & \n",
    "                                     (param_ref.status == \"Status.OK\") & (param_ref.error_category == \"- OK -\")].hyper_params.unique()\n",
    "            for i in range(len(param_trials)):\n",
    "                alg_folder = alg_map[alg_map.ref_name == alg_name].folder.values[0]\n",
    "                #print(alg_folder)\n",
    "                if \"adapad_\" + alg_folder not in unsupervised_algs or \"adapad_\" + alg_folder in r_based:\n",
    "                    break                \n",
    "                command = template_unsupervised.replace(\"<<alg>>\", \"adapad_\" + alg_map[alg_map.ref_name == alg_name].folder.values[0])\n",
    "                command += \", \" + str(param_trials[i])[1:] + \"'\"\n",
    "                command = command.replace(\"<<i>>\", f'{i:05d}')\n",
    "                f.write(command + \"\\n\")\n",
    "        except:\n",
    "            pass"
   ]
  },
  {
   "cell_type": "code",
   "execution_count": null,
   "id": "0c87de08-9bd5-40e8-a2b8-d704f3c6a602",
   "metadata": {},
   "outputs": [],
   "source": [
    "with open(\"supervised_commands_train.txt\", \"w\") as f:\n",
    "    template_supervised_train = \"docker run --rm -v $(pwd)/1-data:/data:ro -v $(pwd)/2-results:/results:rw <<alg>>:latest execute-algorithm '{\\\"executionType\\\": \\\"train\\\", \\\"dataInput\\\": \\\"/data/<<data_name>>.train.csv\\\", \\\"modelOutput\\\": \\\"/results/<<alg>>_<<data_name>>_<<i>>.pkl\\\"\"\n",
    "    for alg_name in alg_map.ref_name.values:\n",
    "        try:\n",
    "            param_trials = param_ref[(param_ref.algorithm == alg_name) & (param_ref.dataset_input_dimensionality == \"UNIVARIATE\") & \n",
    "                                     (param_ref.status == \"Status.OK\") & (param_ref.error_category == \"- OK -\")].hyper_params.unique()\n",
    "            for i in range(len(param_trials)):\n",
    "                alg_folder = alg_map[alg_map.ref_name == alg_name].folder.values[0]\n",
    "                if \"adapad_\" + alg_folder in unsupervised_algs or \"adapad_\" + alg_folder in r_based:\n",
    "                    break\n",
    "                command = template_supervised_train.replace(\"<<alg>>\", \"adapad_\" + alg_map[alg_map.ref_name == alg_name].folder.values[0])\n",
    "                command += \", \" + str(param_trials[i])[1:] + \"'\"\n",
    "                command = command.replace(\"<<i>>\", f'{i:05d}')\n",
    "                f.write(command + \"\\n\")\n",
    "        except:\n",
    "            pass"
   ]
  },
  {
   "cell_type": "code",
   "execution_count": null,
   "id": "7a1cbbe1-a5c9-4bd5-b2b1-c7eb6f203209",
   "metadata": {},
   "outputs": [],
   "source": [
    "with open(\"supervised_commands_test.txt\", \"w\") as f:\n",
    "    template_supervised_execute = \"docker run --rm -v $(pwd)/1-data:/data:ro -v $(pwd)/2-results:/results:rw <<alg>>:latest execute-algorithm '{\\\"executionType\\\": \\\"execute\\\", \\\"dataInput\\\": \\\"/data/<<data_name>>.test.csv\\\", \\\"modelInput\\\": \\\"/results/<<alg>>_<<data_name>>_<<i>>.pkl\\\", \\\"dataOutput\\\": \\\"/results/<<alg>>_<<data_name>>_<<i>>.ts\\\"\"\n",
    "    for alg_name in alg_map.ref_name.values:\n",
    "        try:\n",
    "            param_trials = param_ref[(param_ref.algorithm == alg_name) & (param_ref.dataset_input_dimensionality == \"UNIVARIATE\") & \n",
    "                                     (param_ref.status == \"Status.OK\") & (param_ref.error_category == \"- OK -\")].hyper_params.unique()\n",
    "            for i in range(len(param_trials)):\n",
    "                alg_folder = alg_map[alg_map.ref_name == alg_name].folder.values[0]\n",
    "                if \"adapad_\" + alg_folder in unsupervised_algs or \"adapad_\" + alg_folder in r_based:\n",
    "                    break               \n",
    "                \n",
    "                command = template_supervised_execute.replace(\"<<alg>>\", \"adapad_\" + alg_map[alg_map.ref_name == alg_name].folder.values[0])\n",
    "                #command += \", \" + str(param_trials[i])[1:] + \"'\"\n",
    "                command = command.replace(\"<<i>>\", f'{i:05d}')+ \"}'\"\n",
    "                f.write(command + \"\\n\")\n",
    "        except:\n",
    "            pass"
   ]
  },
  {
   "cell_type": "code",
   "execution_count": null,
   "id": "13b2abd2-2b5d-420d-9afb-9f7ff5cb2a59",
   "metadata": {},
   "outputs": [],
   "source": [
    "with open(\"unsupervised_r_commands.txt\", \"w\") as f:\n",
    "    template_unsupervised = \"Rscript <<alg>>/algorithm.r '{\\\"executionType\\\": \\\"execute\\\", \\\"dataInput\\\": \\\"./1-data/<<data_name>>.total.csv\\\", \\\"dataOutput\\\": \\\"./2-results/<<alg>>_<<data_name>>_<<i>>.ts\\\"\"\n",
    "    for alg_name in alg_map.ref_name.values:\n",
    "        try:\n",
    "            param_trials = param_ref[(param_ref.algorithm == alg_name) & (param_ref.dataset_input_dimensionality == \"UNIVARIATE\") & \n",
    "                                     (param_ref.status == \"Status.OK\") & (param_ref.error_category == \"- OK -\")].hyper_params.unique()\n",
    "            for i in range(len(param_trials)):\n",
    "                alg_folder = alg_map[alg_map.ref_name == alg_name].folder.values[0]\n",
    "                #print(alg_folder)\n",
    "                if \"adapad_\" + alg_folder not in unsupervised_algs or \"adapad_\" + alg_folder not in r_based:\n",
    "                    break                \n",
    "                command = template_unsupervised.replace(\"<<alg>>\", \"adapad_\" + alg_map[alg_map.ref_name == alg_name].folder.values[0])\n",
    "                command += \", \" + str(param_trials[i])[1:] + \"'\"\n",
    "                command = command.replace(\"<<i>>\", f'{i:05d}')\n",
    "                f.write(command + \"\\n\")\n",
    "        except:\n",
    "            pass"
   ]
  },
  {
   "cell_type": "code",
   "execution_count": null,
   "id": "fc78e936-c03b-4f5a-99db-875ab8a1d1a7",
   "metadata": {},
   "outputs": [],
   "source": []
  }
 ],
 "metadata": {
  "kernelspec": {
   "display_name": "Python 3 (ipykernel)",
   "language": "python",
   "name": "python3"
  },
  "language_info": {
   "codemirror_mode": {
    "name": "ipython",
    "version": 3
   },
   "file_extension": ".py",
   "mimetype": "text/x-python",
   "name": "python",
   "nbconvert_exporter": "python",
   "pygments_lexer": "ipython3",
   "version": "3.8.10"
  }
 },
 "nbformat": 4,
 "nbformat_minor": 5
}
